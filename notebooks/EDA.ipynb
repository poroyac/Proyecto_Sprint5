{
 "cells": [
  {
   "cell_type": "code",
   "execution_count": null,
   "metadata": {},
   "outputs": [],
   "source": [
    "import pandas as pd\n",
    "import plotly.express as px\n",
    "\n",
    "car_data = pd.read_csv('vehicles_us.csv') # leer los datos\n",
    "fig = px.histogram(car_data, x=\"odometer\") # crear un histograma\n",
    "fig.show() # crear gráfico de dispersión"
   ]
  }
 ],
 "metadata": {
  "language_info": {
   "name": "python"
  }
 },
 "nbformat": 4,
 "nbformat_minor": 2
}
